{
 "cells": [
  {
   "cell_type": "code",
   "execution_count": 1,
   "metadata": {},
   "outputs": [
    {
     "data": {
      "image/png": "[encoded data removed]",
      "text/plain": [
       "<matplotlib.figure.Figure at 0x7fe121bc7a90>"
      ]
     },
     "metadata": {},
     "output_type": "display_data"
    }
   ],
   "source": [
    "# write your code here\n",
    "from sklearn.externals.joblib import Memory\n",
    "from sklearn.datasets import load_svmlight_file\n",
    "from sklearn.model_selection import train_test_split\n",
    "import numpy as np\n",
    "\n",
    "# 读取数据集\n",
    "mem=Memory('./mycache')\n",
    "@mem.cache\n",
    "def get_data():\n",
    "    data=load_svmlight_file('../data/housing_scale')\n",
    "    return data[0],data[1]\n",
    "\n",
    "# 划分数据集\n",
    "x,y=get_data()\n",
    "y=y.reshape(506,1)\n",
    "x_train,x_test,y_train,y_test=train_test_split(x,y,test_size=0.25)\n",
    "\n",
    "# 参数初始化过程\n",
    "loss=[]\n",
    "loss_validate=[]\n",
    "ranges=range(0,100)\n",
    "w=np.random.rand(13,1)    # 初始化权重\n",
    "yita=0.001    # 学习率\n",
    "reg=0.00001    # lambda\n",
    "# 以下是梯度下降过程\n",
    "tmp1=x_train.T*y_train\n",
    "for i in ranges:\n",
    "    tmp2=x_train*w\n",
    "    grad=reg*w+tmp1-x_train.T*tmp2\n",
    "    w+=yita*grad\n",
    "    # 算loss值\n",
    "    computed=[]\n",
    "    for j in range(0,x_train.shape[0]):\n",
    "        computed.append(((y_train[j]-x_train[j]*w)**2).reshape(1))\n",
    "    loss.append(np.sqrt(0.5*sum(computed))/len(y_train))\n",
    "    computed=[]\n",
    "    for j in range(0,x_test.shape[0]):\n",
    "        computed.append(((y_test[j]-x_test[j]*w)**2).reshape(1))\n",
    "    loss_validate.append(np.sqrt(0.5*sum(computed))/len(y_test))\n",
    "    \n",
    "# 可视化实验结果\n",
    "import matplotlib.pyplot as plt\n",
    "figure1,=plt.plot(ranges,loss)\n",
    "figure2,=plt.plot(ranges,loss_validate)\n",
    "plt.xlabel('Iteration')\n",
    "plt.ylabel('Loss Sqrt')\n",
    "plt.xticks(np.linspace(0, 99, 10))\n",
    "plt.legend(handles=[figure1,figure2], labels=['train_loss','validate_loss'], loc='best')\n",
    "plt.show()"
   ]
  },
  {
   "cell_type": "code",
   "execution_count": 114,
   "metadata": {},
   "outputs": [
    {
     "data": {
      "text/plain": [
       "(1,)"
      ]
     },
     "execution_count": 114,
     "metadata": {},
     "output_type": "execute_result"
    }
   ],
   "source": [
    "((y_train[0]-x_train[0]*w)**2).reshape(1).shape"
   ]
  },
  {
   "cell_type": "code",
   "execution_count": 146,
   "metadata": {},
   "outputs": [
    {
     "data": {
      "text/plain": [
       "10"
      ]
     },
     "execution_count": 146,
     "metadata": {},
     "output_type": "execute_result"
    }
   ],
   "source": [
    "len(range(0,10))"
   ]
  },
  {
   "cell_type": "code",
   "execution_count": 38,
   "metadata": {},
   "outputs": [
    {
     "data": {
      "text/plain": [
       "(1, 13)"
      ]
     },
     "execution_count": 38,
     "metadata": {},
     "output_type": "execute_result"
    }
   ],
   "source": [
    "np.transpose(w).shape"
   ]
  },
  {
   "cell_type": "code",
   "execution_count": 12,
   "metadata": {},
   "outputs": [
    {
     "data": {
      "text/plain": [
       "array([ 64.60430542])"
      ]
     },
     "execution_count": 12,
     "metadata": {},
     "output_type": "execute_result"
    }
   ],
   "source": [
    "loss[9999]"
   ]
  }
 ],
 "metadata": {
  "kernelspec": {
   "display_name": "Python 3",
   "language": "python",
   "name": "python3"
  },
  "language_info": {
   "codemirror_mode": {
    "name": "ipython",
    "version": 3
   },
   "file_extension": ".py",
   "mimetype": "text/x-python",
   "name": "python",
   "nbconvert_exporter": "python",
   "pygments_lexer": "ipython3",
   "version": "3.6.3"
  }
 },
 "nbformat": 4,
 "nbformat_minor": 2
}
