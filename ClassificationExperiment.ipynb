{
 "cells": [
  {
   "cell_type": "code",
   "execution_count": 95,
   "metadata": {},
   "outputs": [
    {
     "data": {
      "image/png": "[encoded data removed]",
      "text/plain": [
       "<matplotlib.figure.Figure at 0x7f9eb2b78588>"
      ]
     },
     "metadata": {},
     "output_type": "display_data"
    }
   ],
   "source": [
    "# write your code here\n",
    "from sklearn.externals.joblib import Memory\n",
    "from sklearn.datasets import load_svmlight_file\n",
    "from sklearn.model_selection import train_test_split\n",
    "import numpy as np\n",
    "\n",
    "# 读取数据集\n",
    "mem=Memory('./mycache2')\n",
    "@mem.cache\n",
    "def get_data():\n",
    "    data=load_svmlight_file('../data/australian_scale')\n",
    "    return data[0],data[1]\n",
    "\n",
    "# 求导函数\n",
    "def grad(x, y, weight, C):\n",
    "    tmp = np.zeros( weight.shape[0] )\n",
    "    for i in range(0, x.shape[0]):\n",
    "        if y[i] * np.dot( x[i] , weight ) < 1:\n",
    "            tmp += -1 * y[i] * x[i]\n",
    "    return weight + C * tmp\n",
    "\n",
    "# 划分数据集\n",
    "x,y=get_data()\n",
    "y=y.reshape(690)\n",
    "x=x.toarray()\n",
    "x=np.c_[ x, np.ones(x.shape[0]) ]\n",
    "x_train,x_test,y_train,y_test=train_test_split(x,y,test_size=0.25,shuffle=False)\n",
    "\n",
    "# 参数初始化过程\n",
    "w=np.random.rand(15)    # 初始化权重\n",
    "yita = 0.0001\n",
    "C = 1\n",
    "ranges=range(0, 100)\n",
    "loss=[]\n",
    "loss_validate=[]\n",
    "# 以下是梯度下降过程\n",
    "for e in ranges:\n",
    "    w -= yita * grad( x_train, y_train, w, C)\n",
    "    # 算训练集loss值\n",
    "    label=[]\n",
    "    for i in range(0, x_train.shape[0]):\n",
    "        if np.dot( x_train[i] , w ) > 0:\n",
    "            label.append(1.)\n",
    "        else:\n",
    "            label.append(-1.)\n",
    "    cur=0.\n",
    "    for i in range(0, x_train.shape[0]):\n",
    "        cur += max(0., 1.-y_train[i]*label[i])\n",
    "    loss.append(cur/len(y_train))\n",
    "    # 算验证集loss值\n",
    "    label_validate=[]\n",
    "    for i in range(0, x_test.shape[0]):\n",
    "        if np.dot( x_test[i] , w ) > 0:\n",
    "            label_validate.append(1.)\n",
    "        else:\n",
    "            label_validate.append(-1.)\n",
    "    cur=0.\n",
    "    for i in range(0, x_test.shape[0]):\n",
    "        cur += max(0, 1.-y_test[i]*label_validate[i])\n",
    "    loss_validate.append(cur/len(y_test))\n",
    "    \n",
    "# 可视化实验结果\n",
    "import matplotlib.pyplot as plt\n",
    "figure1,=plt.plot(ranges,loss)\n",
    "figure2,=plt.plot(ranges,loss_validate)\n",
    "plt.xlabel('Iteration')\n",
    "plt.ylabel('Hinge Loss')\n",
    "plt.xticks(np.linspace(0, 99, 10))\n",
    "plt.legend(handles=[figure1,figure2], labels=['train_loss','validate_loss'], loc='best')\n",
    "plt.show()"
   ]
  },
  {
   "cell_type": "code",
   "execution_count": 66,
   "metadata": {},
   "outputs": [
    {
     "data": {
      "text/plain": [
       "(15,)"
      ]
     },
     "execution_count": 66,
     "metadata": {},
     "output_type": "execute_result"
    }
   ],
   "source": [
    "x[0].shape"
   ]
  }
 ],
 "metadata": {
  "kernelspec": {
   "display_name": "Python 3",
   "language": "python",
   "name": "python3"
  },
  "language_info": {
   "codemirror_mode": {
    "name": "ipython",
    "version": 3
   },
   "file_extension": ".py",
   "mimetype": "text/x-python",
   "name": "python",
   "nbconvert_exporter": "python",
   "pygments_lexer": "ipython3",
   "version": "3.6.3"
  }
 },
 "nbformat": 4,
 "nbformat_minor": 2
}
